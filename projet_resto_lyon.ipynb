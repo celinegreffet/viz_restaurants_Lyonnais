{
 "cells": [
  {
   "cell_type": "markdown",
   "id": "1d1f17c7",
   "metadata": {},
   "source": [
    "# Projet perso"
   ]
  },
  {
   "cell_type": "code",
   "execution_count": 155,
   "id": "e981235d",
   "metadata": {},
   "outputs": [],
   "source": [
    "import glob\n",
    "import numpy as np\n",
    "import pandas as pd\n",
    "from matplotlib import pyplot as plt\n",
    "import seaborn as sns\n",
    "import os\n",
    "import pandas as pd\n",
    "import seaborn as sns\n",
    "import matplotlib.pyplot as plt\n",
    "import streamlit as st\n",
    "import folium\n",
    "from collections import Counter\n",
    "from collections import OrderedDict\n",
    "import plotly.express as px"
   ]
  },
  {
   "cell_type": "markdown",
   "id": "f20195ea",
   "metadata": {},
   "source": [
    "## 1/ Data Cleaning"
   ]
  },
  {
   "cell_type": "code",
   "execution_count": 95,
   "id": "b7ce126b",
   "metadata": {},
   "outputs": [
    {
     "data": {
      "text/html": [
       "<div>\n",
       "<style scoped>\n",
       "    .dataframe tbody tr th:only-of-type {\n",
       "        vertical-align: middle;\n",
       "    }\n",
       "\n",
       "    .dataframe tbody tr th {\n",
       "        vertical-align: top;\n",
       "    }\n",
       "\n",
       "    .dataframe thead th {\n",
       "        text-align: right;\n",
       "    }\n",
       "</style>\n",
       "<table border=\"1\" class=\"dataframe\">\n",
       "  <thead>\n",
       "    <tr style=\"text-align: right;\">\n",
       "      <th></th>\n",
       "      <th>restaurant_name</th>\n",
       "      <th>review_number</th>\n",
       "      <th>food_type</th>\n",
       "      <th>ranking</th>\n",
       "      <th>overallRating</th>\n",
       "      <th>wifi</th>\n",
       "      <th>livraison</th>\n",
       "      <th>average_price</th>\n",
       "      <th>lat</th>\n",
       "      <th>lng</th>\n",
       "      <th>district</th>\n",
       "    </tr>\n",
       "  </thead>\n",
       "  <tbody>\n",
       "    <tr>\n",
       "      <th>0</th>\n",
       "      <td>le Neuvième Art</td>\n",
       "      <td>626 avis</td>\n",
       "      <td>Française  Européenne  Végétariens bienvenus</td>\n",
       "      <td>Nº 1 sur 3 058 Restaurants à Lyon</td>\n",
       "      <td>5.0</td>\n",
       "      <td>yes</td>\n",
       "      <td>yes</td>\n",
       "      <td>85 € -145 €</td>\n",
       "      <td>45.76849365234375</td>\n",
       "      <td>4.85646390914917</td>\n",
       "      <td>69006  Lyon</td>\n",
       "    </tr>\n",
       "    <tr>\n",
       "      <th>1</th>\n",
       "      <td>Aromatic</td>\n",
       "      <td>601 avis</td>\n",
       "      <td>Française  Européenne  Végétariens bienvenus</td>\n",
       "      <td>Nº 2 sur 3 058 Restaurants à Lyon</td>\n",
       "      <td>5.0</td>\n",
       "      <td>yes</td>\n",
       "      <td>no</td>\n",
       "      <td>18 € -41 €</td>\n",
       "      <td>45.77438735961914</td>\n",
       "      <td>4.830961227416992</td>\n",
       "      <td>69004  Lyon</td>\n",
       "    </tr>\n",
       "    <tr>\n",
       "      <th>2</th>\n",
       "      <td>Le Boeuf d'Argent</td>\n",
       "      <td>482 avis</td>\n",
       "      <td>Française  Européenne  Végétariens bienvenus</td>\n",
       "      <td>Nº 3 sur 3 058 Restaurants à Lyon</td>\n",
       "      <td>4.5</td>\n",
       "      <td>no</td>\n",
       "      <td>no</td>\n",
       "      <td>no informations</td>\n",
       "      <td>45.76266098022461</td>\n",
       "      <td>4.826900005340576</td>\n",
       "      <td>69005  Lyon</td>\n",
       "    </tr>\n",
       "    <tr>\n",
       "      <th>3</th>\n",
       "      <td>Le Comptoir des Cousins</td>\n",
       "      <td>205 avis</td>\n",
       "      <td>Française  Européenne  Sud-américaine</td>\n",
       "      <td>Nº 4 sur 3 058 Restaurants à Lyon</td>\n",
       "      <td>5.0</td>\n",
       "      <td>yes</td>\n",
       "      <td>no</td>\n",
       "      <td>13 € -28 €</td>\n",
       "      <td>45.76849365234375</td>\n",
       "      <td>4.85646390914917</td>\n",
       "      <td>69006  Lyon</td>\n",
       "    </tr>\n",
       "    <tr>\n",
       "      <th>4</th>\n",
       "      <td>Le Book-Lard</td>\n",
       "      <td>204 avis</td>\n",
       "      <td>Française  Brasserie gastronomique  Végétarien...</td>\n",
       "      <td>Nº 5 sur 3 058 Restaurants à Lyon</td>\n",
       "      <td>5.0</td>\n",
       "      <td>yes</td>\n",
       "      <td>no</td>\n",
       "      <td>13 € -40 €</td>\n",
       "      <td>45.76708984375</td>\n",
       "      <td>4.845279216766357</td>\n",
       "      <td>69006  Lyon</td>\n",
       "    </tr>\n",
       "  </tbody>\n",
       "</table>\n",
       "</div>"
      ],
      "text/plain": [
       "          restaurant_name  review_number   \\\n",
       "0          le Neuvième Art      626 avis    \n",
       "1                 Aromatic      601 avis    \n",
       "2        Le Boeuf d'Argent      482 avis    \n",
       "3  Le Comptoir des Cousins      205 avis    \n",
       "4             Le Book-Lard      204 avis    \n",
       "\n",
       "                                          food_type   \\\n",
       "0       Française  Européenne  Végétariens bienvenus   \n",
       "1       Française  Européenne  Végétariens bienvenus   \n",
       "2       Française  Européenne  Végétariens bienvenus   \n",
       "3              Française  Européenne  Sud-américaine   \n",
       "4  Française  Brasserie gastronomique  Végétarien...   \n",
       "\n",
       "                            ranking   overallRating    wifi   livraison   \\\n",
       "0  Nº 1 sur 3 058 Restaurants à Lyon             5.0     yes         yes   \n",
       "1  Nº 2 sur 3 058 Restaurants à Lyon             5.0     yes          no   \n",
       "2  Nº 3 sur 3 058 Restaurants à Lyon             4.5      no          no   \n",
       "3  Nº 4 sur 3 058 Restaurants à Lyon             5.0     yes          no   \n",
       "4  Nº 5 sur 3 058 Restaurants à Lyon             5.0     yes          no   \n",
       "\n",
       "    average_price                lat                lng       district   \n",
       "0      85 € -145 €  45.76849365234375   4.85646390914917  69006  Lyon    \n",
       "1       18 € -41 €  45.77438735961914  4.830961227416992  69004  Lyon    \n",
       "2  no informations  45.76266098022461  4.826900005340576  69005  Lyon    \n",
       "3       13 € -28 €  45.76849365234375   4.85646390914917  69006  Lyon    \n",
       "4       13 € -40 €     45.76708984375  4.845279216766357  69006  Lyon    "
      ]
     },
     "execution_count": 95,
     "metadata": {},
     "output_type": "execute_result"
    }
   ],
   "source": [
    "\n",
    "path_file = os.path.join(\"c:\\\\\", 'Users', 'celin','.ipython','PROJET PERSO','restaurant_data_kaggles.csv')\n",
    "path_file= os.path.normpath(path_file)\n",
    "df=pd.read_csv(\"restaurant_data_kaggles.csv\", sep = ',')\n",
    "df.head(5)\n"
   ]
  },
  {
   "cell_type": "markdown",
   "id": "38ce00d3",
   "metadata": {},
   "source": [
    "##### 1ères observations (shape, info, etc)\n",
    "---"
   ]
  },
  {
   "cell_type": "code",
   "execution_count": 96,
   "id": "68ad72d5",
   "metadata": {},
   "outputs": [
    {
     "data": {
      "text/plain": [
       "(3058, 11)"
      ]
     },
     "execution_count": 96,
     "metadata": {},
     "output_type": "execute_result"
    }
   ],
   "source": [
    "df.shape"
   ]
  },
  {
   "cell_type": "code",
   "execution_count": 97,
   "id": "8104a6ea",
   "metadata": {},
   "outputs": [
    {
     "name": "stdout",
     "output_type": "stream",
     "text": [
      "<class 'pandas.core.frame.DataFrame'>\n",
      "RangeIndex: 3058 entries, 0 to 3057\n",
      "Data columns (total 11 columns):\n",
      " #   Column            Non-Null Count  Dtype \n",
      "---  ------            --------------  ----- \n",
      " 0   restaurant_name   3058 non-null   object\n",
      " 1   review_number     3058 non-null   object\n",
      " 2    food_type        3058 non-null   object\n",
      " 3    ranking          3058 non-null   object\n",
      " 4    overallRating    3058 non-null   object\n",
      " 5    wifi             3058 non-null   object\n",
      " 6    livraison        3058 non-null   object\n",
      " 7    average_price    3058 non-null   object\n",
      " 8    lat              3058 non-null   object\n",
      " 9    lng              3058 non-null   object\n",
      " 10   district         3058 non-null   object\n",
      "dtypes: object(11)\n",
      "memory usage: 262.9+ KB\n"
     ]
    }
   ],
   "source": [
    "df.info()"
   ]
  },
  {
   "cell_type": "code",
   "execution_count": 98,
   "id": "f27ca493",
   "metadata": {},
   "outputs": [
    {
     "data": {
      "text/plain": [
       "restaurant_name     2939\n",
       "review_number        441\n",
       " food_type           478\n",
       " ranking            2801\n",
       " overallRating        11\n",
       " wifi                  2\n",
       " livraison             2\n",
       " average_price       395\n",
       " lat                 196\n",
       " lng                 196\n",
       " district             74\n",
       "dtype: int64"
      ]
     },
     "execution_count": 98,
     "metadata": {},
     "output_type": "execute_result"
    }
   ],
   "source": [
    "df.nunique()"
   ]
  },
  {
   "cell_type": "code",
   "execution_count": 99,
   "id": "9547197e",
   "metadata": {},
   "outputs": [
    {
     "data": {
      "text/plain": [
       "Index(['restaurant_name ', 'review_number ', ' food_type ', ' ranking ',\n",
       "       ' overallRating  ', ' wifi ', ' livraison ', ' average_price ', ' lat ',\n",
       "       ' lng ', ' district '],\n",
       "      dtype='object')"
      ]
     },
     "execution_count": 99,
     "metadata": {},
     "output_type": "execute_result"
    }
   ],
   "source": [
    "df.columns"
   ]
  },
  {
   "cell_type": "code",
   "execution_count": 100,
   "id": "7df8689f",
   "metadata": {},
   "outputs": [
    {
     "data": {
      "text/plain": [
       "restaurant_name     False\n",
       "review_number       False\n",
       " food_type          False\n",
       " ranking            False\n",
       " overallRating      False\n",
       " wifi               False\n",
       " livraison          False\n",
       " average_price      False\n",
       " lat                False\n",
       " lng                False\n",
       " district           False\n",
       "dtype: bool"
      ]
     },
     "execution_count": 100,
     "metadata": {},
     "output_type": "execute_result"
    }
   ],
   "source": [
    "df.isna().any(axis=0)"
   ]
  },
  {
   "cell_type": "code",
   "execution_count": 101,
   "id": "eea6ef2b",
   "metadata": {},
   "outputs": [
    {
     "data": {
      "text/plain": [
       "restaurant_name     0\n",
       "review_number       0\n",
       " food_type          0\n",
       " ranking            0\n",
       " overallRating      0\n",
       " wifi               0\n",
       " livraison          0\n",
       " average_price      0\n",
       " lat                0\n",
       " lng                0\n",
       " district           0\n",
       "dtype: int64"
      ]
     },
     "execution_count": 101,
     "metadata": {},
     "output_type": "execute_result"
    }
   ],
   "source": [
    "df.isna().sum()"
   ]
  },
  {
   "cell_type": "code",
   "execution_count": 102,
   "id": "ba21a0f4",
   "metadata": {},
   "outputs": [
    {
     "data": {
      "text/html": [
       "<div>\n",
       "<style scoped>\n",
       "    .dataframe tbody tr th:only-of-type {\n",
       "        vertical-align: middle;\n",
       "    }\n",
       "\n",
       "    .dataframe tbody tr th {\n",
       "        vertical-align: top;\n",
       "    }\n",
       "\n",
       "    .dataframe thead th {\n",
       "        text-align: right;\n",
       "    }\n",
       "</style>\n",
       "<table border=\"1\" class=\"dataframe\">\n",
       "  <thead>\n",
       "    <tr style=\"text-align: right;\">\n",
       "      <th></th>\n",
       "      <th>restaurant_name</th>\n",
       "      <th>review_number</th>\n",
       "      <th>food_type</th>\n",
       "      <th>ranking</th>\n",
       "      <th>overallRating</th>\n",
       "      <th>wifi</th>\n",
       "      <th>livraison</th>\n",
       "      <th>average_price</th>\n",
       "      <th>lat</th>\n",
       "      <th>lng</th>\n",
       "      <th>district</th>\n",
       "    </tr>\n",
       "  </thead>\n",
       "  <tbody>\n",
       "    <tr>\n",
       "      <th>count</th>\n",
       "      <td>3058</td>\n",
       "      <td>3058</td>\n",
       "      <td>3058</td>\n",
       "      <td>3058</td>\n",
       "      <td>3058</td>\n",
       "      <td>3058</td>\n",
       "      <td>3058</td>\n",
       "      <td>3058</td>\n",
       "      <td>3058</td>\n",
       "      <td>3058</td>\n",
       "      <td>3058</td>\n",
       "    </tr>\n",
       "    <tr>\n",
       "      <th>unique</th>\n",
       "      <td>2939</td>\n",
       "      <td>441</td>\n",
       "      <td>478</td>\n",
       "      <td>2801</td>\n",
       "      <td>11</td>\n",
       "      <td>2</td>\n",
       "      <td>2</td>\n",
       "      <td>395</td>\n",
       "      <td>196</td>\n",
       "      <td>196</td>\n",
       "      <td>74</td>\n",
       "    </tr>\n",
       "    <tr>\n",
       "      <th>top</th>\n",
       "      <td>McDonald's</td>\n",
       "      <td>no information</td>\n",
       "      <td>no information</td>\n",
       "      <td>no_information</td>\n",
       "      <td>4.0</td>\n",
       "      <td>no</td>\n",
       "      <td>no</td>\n",
       "      <td>no information</td>\n",
       "      <td>45.77438735961914</td>\n",
       "      <td>4.830961227416992</td>\n",
       "      <td>69002  Lyon</td>\n",
       "    </tr>\n",
       "    <tr>\n",
       "      <th>freq</th>\n",
       "      <td>21</td>\n",
       "      <td>252</td>\n",
       "      <td>1084</td>\n",
       "      <td>250</td>\n",
       "      <td>848</td>\n",
       "      <td>2742</td>\n",
       "      <td>2764</td>\n",
       "      <td>2129</td>\n",
       "      <td>116</td>\n",
       "      <td>116</td>\n",
       "      <td>502</td>\n",
       "    </tr>\n",
       "  </tbody>\n",
       "</table>\n",
       "</div>"
      ],
      "text/plain": [
       "       restaurant_name   review_number       food_type         ranking   \\\n",
       "count              3058            3058            3058            3058   \n",
       "unique             2939             441             478            2801   \n",
       "top          McDonald's  no information  no information  no_information   \n",
       "freq                 21             252            1084             250   \n",
       "\n",
       "        overallRating    wifi   livraison   average_price                lat   \\\n",
       "count              3058   3058        3058            3058               3058   \n",
       "unique               11      2           2             395                196   \n",
       "top                4.0      no          no  no information  45.77438735961914   \n",
       "freq                848   2742        2764            2129                116   \n",
       "\n",
       "                     lng       district   \n",
       "count                3058           3058  \n",
       "unique                196             74  \n",
       "top     4.830961227416992  69002  Lyon    \n",
       "freq                  116            502  "
      ]
     },
     "execution_count": 102,
     "metadata": {},
     "output_type": "execute_result"
    }
   ],
   "source": [
    "df.describe()"
   ]
  },
  {
   "cell_type": "markdown",
   "id": "c8d1e0f8",
   "metadata": {},
   "source": [
    "##### Nommage de la df et des colonnes\n",
    "---"
   ]
  },
  {
   "cell_type": "code",
   "execution_count": 103,
   "id": "e57a9b3f",
   "metadata": {},
   "outputs": [
    {
     "data": {
      "text/html": [
       "<div>\n",
       "<style scoped>\n",
       "    .dataframe tbody tr th:only-of-type {\n",
       "        vertical-align: middle;\n",
       "    }\n",
       "\n",
       "    .dataframe tbody tr th {\n",
       "        vertical-align: top;\n",
       "    }\n",
       "\n",
       "    .dataframe thead th {\n",
       "        text-align: right;\n",
       "    }\n",
       "</style>\n",
       "<table border=\"1\" class=\"dataframe\">\n",
       "  <thead>\n",
       "    <tr style=\"text-align: right;\">\n",
       "      <th></th>\n",
       "      <th>nom_restaurant</th>\n",
       "      <th>nombre_d_avis</th>\n",
       "      <th>type_nouriture</th>\n",
       "      <th>classement</th>\n",
       "      <th>note</th>\n",
       "      <th>wifi</th>\n",
       "      <th>livraison</th>\n",
       "      <th>prix_moyen</th>\n",
       "      <th>latitude</th>\n",
       "      <th>longitude</th>\n",
       "      <th>arrondissement</th>\n",
       "    </tr>\n",
       "  </thead>\n",
       "  <tbody>\n",
       "    <tr>\n",
       "      <th>0</th>\n",
       "      <td>le Neuvième Art</td>\n",
       "      <td>626 avis</td>\n",
       "      <td>Française  Européenne  Végétariens bienvenus</td>\n",
       "      <td>Nº 1 sur 3 058 Restaurants à Lyon</td>\n",
       "      <td>5.0</td>\n",
       "      <td>yes</td>\n",
       "      <td>yes</td>\n",
       "      <td>85 € -145 €</td>\n",
       "      <td>45.76849365234375</td>\n",
       "      <td>4.85646390914917</td>\n",
       "      <td>69006  Lyon</td>\n",
       "    </tr>\n",
       "    <tr>\n",
       "      <th>1</th>\n",
       "      <td>Aromatic</td>\n",
       "      <td>601 avis</td>\n",
       "      <td>Française  Européenne  Végétariens bienvenus</td>\n",
       "      <td>Nº 2 sur 3 058 Restaurants à Lyon</td>\n",
       "      <td>5.0</td>\n",
       "      <td>yes</td>\n",
       "      <td>no</td>\n",
       "      <td>18 € -41 €</td>\n",
       "      <td>45.77438735961914</td>\n",
       "      <td>4.830961227416992</td>\n",
       "      <td>69004  Lyon</td>\n",
       "    </tr>\n",
       "    <tr>\n",
       "      <th>2</th>\n",
       "      <td>Le Boeuf d'Argent</td>\n",
       "      <td>482 avis</td>\n",
       "      <td>Française  Européenne  Végétariens bienvenus</td>\n",
       "      <td>Nº 3 sur 3 058 Restaurants à Lyon</td>\n",
       "      <td>4.5</td>\n",
       "      <td>no</td>\n",
       "      <td>no</td>\n",
       "      <td>no informations</td>\n",
       "      <td>45.76266098022461</td>\n",
       "      <td>4.826900005340576</td>\n",
       "      <td>69005  Lyon</td>\n",
       "    </tr>\n",
       "    <tr>\n",
       "      <th>3</th>\n",
       "      <td>Le Comptoir des Cousins</td>\n",
       "      <td>205 avis</td>\n",
       "      <td>Française  Européenne  Sud-américaine</td>\n",
       "      <td>Nº 4 sur 3 058 Restaurants à Lyon</td>\n",
       "      <td>5.0</td>\n",
       "      <td>yes</td>\n",
       "      <td>no</td>\n",
       "      <td>13 € -28 €</td>\n",
       "      <td>45.76849365234375</td>\n",
       "      <td>4.85646390914917</td>\n",
       "      <td>69006  Lyon</td>\n",
       "    </tr>\n",
       "    <tr>\n",
       "      <th>4</th>\n",
       "      <td>Le Book-Lard</td>\n",
       "      <td>204 avis</td>\n",
       "      <td>Française  Brasserie gastronomique  Végétarien...</td>\n",
       "      <td>Nº 5 sur 3 058 Restaurants à Lyon</td>\n",
       "      <td>5.0</td>\n",
       "      <td>yes</td>\n",
       "      <td>no</td>\n",
       "      <td>13 € -40 €</td>\n",
       "      <td>45.76708984375</td>\n",
       "      <td>4.845279216766357</td>\n",
       "      <td>69006  Lyon</td>\n",
       "    </tr>\n",
       "    <tr>\n",
       "      <th>...</th>\n",
       "      <td>...</td>\n",
       "      <td>...</td>\n",
       "      <td>...</td>\n",
       "      <td>...</td>\n",
       "      <td>...</td>\n",
       "      <td>...</td>\n",
       "      <td>...</td>\n",
       "      <td>...</td>\n",
       "      <td>...</td>\n",
       "      <td>...</td>\n",
       "      <td>...</td>\n",
       "    </tr>\n",
       "    <tr>\n",
       "      <th>3053</th>\n",
       "      <td>Pronto Pizzas</td>\n",
       "      <td>no information</td>\n",
       "      <td>Pizza</td>\n",
       "      <td>no_information</td>\n",
       "      <td>no information</td>\n",
       "      <td>no</td>\n",
       "      <td>no</td>\n",
       "      <td>5 € -15 €</td>\n",
       "      <td>45.76837158203125</td>\n",
       "      <td>4.938692092895508</td>\n",
       "      <td>69150 Decines-Charpieu  Lyon</td>\n",
       "    </tr>\n",
       "    <tr>\n",
       "      <th>3054</th>\n",
       "      <td>Le Café Lumière</td>\n",
       "      <td>no information</td>\n",
       "      <td>Française  Européenne  Albanaise</td>\n",
       "      <td>no_information</td>\n",
       "      <td>no information</td>\n",
       "      <td>no</td>\n",
       "      <td>no</td>\n",
       "      <td>11 € -24 €</td>\n",
       "      <td>45.769161224365234</td>\n",
       "      <td>4.987874984741211</td>\n",
       "      <td>69150 Decines-Charpieu  Lyon</td>\n",
       "    </tr>\n",
       "    <tr>\n",
       "      <th>3055</th>\n",
       "      <td>Le Café Lumière</td>\n",
       "      <td>no information</td>\n",
       "      <td>no information</td>\n",
       "      <td>no_information</td>\n",
       "      <td>no information</td>\n",
       "      <td>no</td>\n",
       "      <td>no</td>\n",
       "      <td>no information</td>\n",
       "      <td>45.769161224365234</td>\n",
       "      <td>4.987874984741211</td>\n",
       "      <td>69150 Decines-Charpieu  Lyon</td>\n",
       "    </tr>\n",
       "    <tr>\n",
       "      <th>3056</th>\n",
       "      <td>Demeures Et Seminaires</td>\n",
       "      <td>no information</td>\n",
       "      <td>no information</td>\n",
       "      <td>no_information</td>\n",
       "      <td>no information</td>\n",
       "      <td>no</td>\n",
       "      <td>no</td>\n",
       "      <td>no information</td>\n",
       "      <td>no information</td>\n",
       "      <td>no information</td>\n",
       "      <td>28330 Charbonnières-les-Bains  Lyon</td>\n",
       "    </tr>\n",
       "    <tr>\n",
       "      <th>3057</th>\n",
       "      <td>Le Terminus</td>\n",
       "      <td>no information</td>\n",
       "      <td>Suisse  Européenne</td>\n",
       "      <td>no_information</td>\n",
       "      <td>no information</td>\n",
       "      <td>no</td>\n",
       "      <td>no</td>\n",
       "      <td>no information</td>\n",
       "      <td>45.78145980834961</td>\n",
       "      <td>4.749744892120361</td>\n",
       "      <td>Charbonnières-les-Bains  Lyon</td>\n",
       "    </tr>\n",
       "  </tbody>\n",
       "</table>\n",
       "<p>3058 rows × 11 columns</p>\n",
       "</div>"
      ],
      "text/plain": [
       "               nom_restaurant   nombre_d_avis  \\\n",
       "0             le Neuvième Art       626 avis    \n",
       "1                    Aromatic       601 avis    \n",
       "2           Le Boeuf d'Argent       482 avis    \n",
       "3     Le Comptoir des Cousins       205 avis    \n",
       "4                Le Book-Lard       204 avis    \n",
       "...                       ...             ...   \n",
       "3053            Pronto Pizzas  no information   \n",
       "3054          Le Café Lumière  no information   \n",
       "3055          Le Café Lumière  no information   \n",
       "3056   Demeures Et Seminaires  no information   \n",
       "3057              Le Terminus  no information   \n",
       "\n",
       "                                         type_nouriture  \\\n",
       "0          Française  Européenne  Végétariens bienvenus   \n",
       "1          Française  Européenne  Végétariens bienvenus   \n",
       "2          Française  Européenne  Végétariens bienvenus   \n",
       "3                 Française  Européenne  Sud-américaine   \n",
       "4     Française  Brasserie gastronomique  Végétarien...   \n",
       "...                                                 ...   \n",
       "3053                                              Pizza   \n",
       "3054                   Française  Européenne  Albanaise   \n",
       "3055                                     no information   \n",
       "3056                                     no information   \n",
       "3057                                 Suisse  Européenne   \n",
       "\n",
       "                             classement            note wifi livraison  \\\n",
       "0     Nº 1 sur 3 058 Restaurants à Lyon            5.0   yes       yes   \n",
       "1     Nº 2 sur 3 058 Restaurants à Lyon            5.0   yes        no   \n",
       "2     Nº 3 sur 3 058 Restaurants à Lyon            4.5    no        no   \n",
       "3     Nº 4 sur 3 058 Restaurants à Lyon            5.0   yes        no   \n",
       "4     Nº 5 sur 3 058 Restaurants à Lyon            5.0   yes        no   \n",
       "...                                 ...             ...  ...       ...   \n",
       "3053                     no_information  no information   no        no   \n",
       "3054                     no_information  no information   no        no   \n",
       "3055                     no_information  no information   no        no   \n",
       "3056                     no_information  no information   no        no   \n",
       "3057                     no_information  no information   no        no   \n",
       "\n",
       "           prix_moyen            latitude          longitude  \\\n",
       "0         85 € -145 €   45.76849365234375   4.85646390914917   \n",
       "1          18 € -41 €   45.77438735961914  4.830961227416992   \n",
       "2     no informations   45.76266098022461  4.826900005340576   \n",
       "3          13 € -28 €   45.76849365234375   4.85646390914917   \n",
       "4          13 € -40 €      45.76708984375  4.845279216766357   \n",
       "...               ...                 ...                ...   \n",
       "3053        5 € -15 €   45.76837158203125  4.938692092895508   \n",
       "3054       11 € -24 €  45.769161224365234  4.987874984741211   \n",
       "3055   no information  45.769161224365234  4.987874984741211   \n",
       "3056   no information      no information     no information   \n",
       "3057   no information   45.78145980834961  4.749744892120361   \n",
       "\n",
       "                             arrondissement  \n",
       "0                             69006  Lyon    \n",
       "1                             69004  Lyon    \n",
       "2                             69005  Lyon    \n",
       "3                             69006  Lyon    \n",
       "4                             69006  Lyon    \n",
       "...                                     ...  \n",
       "3053         69150 Decines-Charpieu  Lyon    \n",
       "3054         69150 Decines-Charpieu  Lyon    \n",
       "3055         69150 Decines-Charpieu  Lyon    \n",
       "3056  28330 Charbonnières-les-Bains  Lyon    \n",
       "3057        Charbonnières-les-Bains  Lyon    \n",
       "\n",
       "[3058 rows x 11 columns]"
      ]
     },
     "execution_count": 103,
     "metadata": {},
     "output_type": "execute_result"
    }
   ],
   "source": [
    "df_resto_lyon = df.rename(columns={'restaurant_name ' : 'nom_restaurant', 'review_number ':'nombre_d_avis', ' food_type ':'type_nouriture', ' ranking ':'classement',\n",
    "       ' overallRating  ':'note', ' wifi ':'wifi', ' livraison ':'livraison', ' average_price ':'prix_moyen', ' lat ':'latitude', ' lng ':'longitude', ' district ':'arrondissement'})\n",
    "df_resto_lyon"
   ]
  },
  {
   "cell_type": "markdown",
   "id": "1e00ef86",
   "metadata": {},
   "source": [
    "##### Remplacer les données categorielles manuscrites en chiffre pour simplifier l'analyse\n",
    "#####  yes = 1, no= 0\n",
    "---"
   ]
  },
  {
   "cell_type": "code",
   "execution_count": 104,
   "id": "a27d7dbb",
   "metadata": {},
   "outputs": [],
   "source": [
    "df_resto_lyon.loc[df_resto_lyon.livraison == 'no','livraison'] = 0\n",
    "df_resto_lyon.loc[df_resto_lyon.livraison == 'yes','livraison'] = 1\n",
    "\n",
    "df_resto_lyon.loc[df_resto_lyon.wifi == 'no','wifi'] = 0\n",
    "df_resto_lyon.loc[df_resto_lyon.wifi == 'yes','wifi'] = 1\n",
    "\n",
    "df_resto_lyon.loc[df_resto_lyon.latitude == 'no information','latitude'] = 0\n",
    "df_resto_lyon.loc[df_resto_lyon.longitude == 'no information','longitude'] = 0"
   ]
  },
  {
   "cell_type": "markdown",
   "id": "becbd2f0",
   "metadata": {},
   "source": [
    "##### Analyses\n",
    "---"
   ]
  },
  {
   "cell_type": "markdown",
   "id": "efe20a83",
   "metadata": {},
   "source": [
    "<!-- \n",
    "nom_restaurant : nom du restaurant\n",
    "nombre_d_avis : notre d'avis\n",
    "type_nouriture : type de nouriture\n",
    "classement : classement des restaurants sur Lyon\n",
    "note : note sur 5 points\n",
    "wifi : presence ou non de la wifi\n",
    "livraison : livraison\n",
    "prix_moyen : prix moyen\n",
    "arrondissement : arrondissement des restaurants\n",
    "Latitude : latitude du restaurant\n",
    "Longitude : longitude du restaurant du dataset sur l'ensemble des 3059 restaurants présents sur Lyon . -->\n"
   ]
  },
  {
   "cell_type": "code",
   "execution_count": 105,
   "id": "fd284e32",
   "metadata": {},
   "outputs": [],
   "source": [
    "df_resto_lyon = df_resto_lyon.replace(r'^\\s*$', np.nan, regex=True)"
   ]
  },
  {
   "cell_type": "code",
   "execution_count": 106,
   "id": "36ba0f31",
   "metadata": {},
   "outputs": [
    {
     "data": {
      "text/plain": [
       "0       True\n",
       "1       True\n",
       "2       True\n",
       "3       True\n",
       "4       True\n",
       "        ... \n",
       "3053    True\n",
       "3054    True\n",
       "3055    True\n",
       "3056    True\n",
       "3057    True\n",
       "Name: latitude, Length: 3058, dtype: bool"
      ]
     },
     "execution_count": 106,
     "metadata": {},
     "output_type": "execute_result"
    }
   ],
   "source": [
    "def test_float(v):\n",
    "    try:\n",
    "        float(v)\n",
    "        return True\n",
    "    except ValueError:\n",
    "        return False\n",
    "df_resto_lyon.latitude.apply(test_float)"
   ]
  },
  {
   "cell_type": "code",
   "execution_count": 107,
   "id": "ce296451",
   "metadata": {},
   "outputs": [
    {
     "data": {
      "text/html": [
       "<div>\n",
       "<style scoped>\n",
       "    .dataframe tbody tr th:only-of-type {\n",
       "        vertical-align: middle;\n",
       "    }\n",
       "\n",
       "    .dataframe tbody tr th {\n",
       "        vertical-align: top;\n",
       "    }\n",
       "\n",
       "    .dataframe thead th {\n",
       "        text-align: right;\n",
       "    }\n",
       "</style>\n",
       "<table border=\"1\" class=\"dataframe\">\n",
       "  <thead>\n",
       "    <tr style=\"text-align: right;\">\n",
       "      <th></th>\n",
       "      <th>nom_restaurant</th>\n",
       "      <th>nombre_d_avis</th>\n",
       "      <th>type_nouriture</th>\n",
       "      <th>classement</th>\n",
       "      <th>note</th>\n",
       "      <th>wifi</th>\n",
       "      <th>livraison</th>\n",
       "      <th>prix_moyen</th>\n",
       "      <th>latitude</th>\n",
       "      <th>longitude</th>\n",
       "      <th>arrondissement</th>\n",
       "    </tr>\n",
       "  </thead>\n",
       "  <tbody>\n",
       "  </tbody>\n",
       "</table>\n",
       "</div>"
      ],
      "text/plain": [
       "Empty DataFrame\n",
       "Columns: [nom_restaurant, nombre_d_avis, type_nouriture, classement, note, wifi, livraison, prix_moyen, latitude, longitude, arrondissement]\n",
       "Index: []"
      ]
     },
     "execution_count": 107,
     "metadata": {},
     "output_type": "execute_result"
    }
   ],
   "source": [
    "df_resto_lyon[~df_resto_lyon.latitude.apply(test_float)]"
   ]
  },
  {
   "cell_type": "code",
   "execution_count": 108,
   "id": "9bee88fc",
   "metadata": {},
   "outputs": [
    {
     "data": {
      "text/plain": [
       "Index(['nom_restaurant', 'nombre_d_avis', 'type_nouriture', 'classement',\n",
       "       'note', 'wifi', 'livraison', 'prix_moyen', 'latitude', 'longitude',\n",
       "       'arrondissement'],\n",
       "      dtype='object')"
      ]
     },
     "execution_count": 108,
     "metadata": {},
     "output_type": "execute_result"
    }
   ],
   "source": [
    "df_resto_lyon.columns\n"
   ]
  },
  {
   "cell_type": "code",
   "execution_count": 109,
   "id": "08d96f90",
   "metadata": {},
   "outputs": [
    {
     "data": {
      "text/plain": [
       "(3058, 11)"
      ]
     },
     "execution_count": 109,
     "metadata": {},
     "output_type": "execute_result"
    }
   ],
   "source": [
    "df_resto_lyon.shape"
   ]
  },
  {
   "cell_type": "code",
   "execution_count": 110,
   "id": "f1ed1588",
   "metadata": {},
   "outputs": [],
   "source": [
    "# df_resto_lyon.drop(df_resto_lyon[df_resto_lyon == False].index, inplace=True)"
   ]
  },
  {
   "cell_type": "code",
   "execution_count": 111,
   "id": "fb3c7f1b",
   "metadata": {},
   "outputs": [
    {
     "data": {
      "text/html": [
       "<div>\n",
       "<style scoped>\n",
       "    .dataframe tbody tr th:only-of-type {\n",
       "        vertical-align: middle;\n",
       "    }\n",
       "\n",
       "    .dataframe tbody tr th {\n",
       "        vertical-align: top;\n",
       "    }\n",
       "\n",
       "    .dataframe thead th {\n",
       "        text-align: right;\n",
       "    }\n",
       "</style>\n",
       "<table border=\"1\" class=\"dataframe\">\n",
       "  <thead>\n",
       "    <tr style=\"text-align: right;\">\n",
       "      <th></th>\n",
       "      <th>nom_restaurant</th>\n",
       "      <th>nombre_d_avis</th>\n",
       "      <th>type_nouriture</th>\n",
       "      <th>classement</th>\n",
       "      <th>note</th>\n",
       "      <th>wifi</th>\n",
       "      <th>livraison</th>\n",
       "      <th>prix_moyen</th>\n",
       "      <th>latitude</th>\n",
       "      <th>longitude</th>\n",
       "      <th>arrondissement</th>\n",
       "    </tr>\n",
       "  </thead>\n",
       "  <tbody>\n",
       "    <tr>\n",
       "      <th>2806</th>\n",
       "      <td>Brooklyn Burgers</td>\n",
       "      <td>no information</td>\n",
       "      <td>no information</td>\n",
       "      <td>Nº 2 718 sur 3 058 Restaurants à Lyon</td>\n",
       "      <td>no information</td>\n",
       "      <td>0</td>\n",
       "      <td>0</td>\n",
       "      <td>no information</td>\n",
       "      <td>45.77476119995117</td>\n",
       "      <td>4.805241107940674</td>\n",
       "      <td>69009  Lyon</td>\n",
       "    </tr>\n",
       "    <tr>\n",
       "      <th>2807</th>\n",
       "      <td>PHONE APERO</td>\n",
       "      <td>no information</td>\n",
       "      <td>Vietnamienne  Bar à vins</td>\n",
       "      <td>Nº 29 sur 36 Restaurants à Vaulx en Velin</td>\n",
       "      <td>no information</td>\n",
       "      <td>0</td>\n",
       "      <td>0</td>\n",
       "      <td>no information</td>\n",
       "      <td>45.77484130859375</td>\n",
       "      <td>4.914850234985352</td>\n",
       "      <td>69120 Vaulx en Velin  Lyon</td>\n",
       "    </tr>\n",
       "    <tr>\n",
       "      <th>2808</th>\n",
       "      <td>Les Cuisiniers du Marche</td>\n",
       "      <td>no information</td>\n",
       "      <td>no information</td>\n",
       "      <td>Nº 2 754 sur 3 058 Restaurants à Lyon</td>\n",
       "      <td>no information</td>\n",
       "      <td>0</td>\n",
       "      <td>0</td>\n",
       "      <td>no information</td>\n",
       "      <td>45.77438735961914</td>\n",
       "      <td>4.830961227416992</td>\n",
       "      <td>69001  Lyon</td>\n",
       "    </tr>\n",
       "    <tr>\n",
       "      <th>2809</th>\n",
       "      <td>Le Foch</td>\n",
       "      <td>no information</td>\n",
       "      <td>Française  Café</td>\n",
       "      <td>Nº 2 768 sur 3 058 Restaurants à Lyon</td>\n",
       "      <td>no information</td>\n",
       "      <td>1</td>\n",
       "      <td>0</td>\n",
       "      <td>11 € -18 €</td>\n",
       "      <td>45.769676208496094</td>\n",
       "      <td>4.8437042236328125</td>\n",
       "      <td>69006  Lyon</td>\n",
       "    </tr>\n",
       "    <tr>\n",
       "      <th>2810</th>\n",
       "      <td>L'Etourdi</td>\n",
       "      <td>no information</td>\n",
       "      <td>Française</td>\n",
       "      <td>Nº 2 791 sur 3 058 Restaurants à Lyon</td>\n",
       "      <td>no information</td>\n",
       "      <td>0</td>\n",
       "      <td>0</td>\n",
       "      <td>no information</td>\n",
       "      <td>45.7598876953125</td>\n",
       "      <td>4.830905914306641</td>\n",
       "      <td>69002  Lyon</td>\n",
       "    </tr>\n",
       "    <tr>\n",
       "      <th>...</th>\n",
       "      <td>...</td>\n",
       "      <td>...</td>\n",
       "      <td>...</td>\n",
       "      <td>...</td>\n",
       "      <td>...</td>\n",
       "      <td>...</td>\n",
       "      <td>...</td>\n",
       "      <td>...</td>\n",
       "      <td>...</td>\n",
       "      <td>...</td>\n",
       "      <td>...</td>\n",
       "    </tr>\n",
       "    <tr>\n",
       "      <th>3053</th>\n",
       "      <td>Pronto Pizzas</td>\n",
       "      <td>no information</td>\n",
       "      <td>Pizza</td>\n",
       "      <td>no_information</td>\n",
       "      <td>no information</td>\n",
       "      <td>0</td>\n",
       "      <td>0</td>\n",
       "      <td>5 € -15 €</td>\n",
       "      <td>45.76837158203125</td>\n",
       "      <td>4.938692092895508</td>\n",
       "      <td>69150 Decines-Charpieu  Lyon</td>\n",
       "    </tr>\n",
       "    <tr>\n",
       "      <th>3054</th>\n",
       "      <td>Le Café Lumière</td>\n",
       "      <td>no information</td>\n",
       "      <td>Française  Européenne  Albanaise</td>\n",
       "      <td>no_information</td>\n",
       "      <td>no information</td>\n",
       "      <td>0</td>\n",
       "      <td>0</td>\n",
       "      <td>11 € -24 €</td>\n",
       "      <td>45.769161224365234</td>\n",
       "      <td>4.987874984741211</td>\n",
       "      <td>69150 Decines-Charpieu  Lyon</td>\n",
       "    </tr>\n",
       "    <tr>\n",
       "      <th>3055</th>\n",
       "      <td>Le Café Lumière</td>\n",
       "      <td>no information</td>\n",
       "      <td>no information</td>\n",
       "      <td>no_information</td>\n",
       "      <td>no information</td>\n",
       "      <td>0</td>\n",
       "      <td>0</td>\n",
       "      <td>no information</td>\n",
       "      <td>45.769161224365234</td>\n",
       "      <td>4.987874984741211</td>\n",
       "      <td>69150 Decines-Charpieu  Lyon</td>\n",
       "    </tr>\n",
       "    <tr>\n",
       "      <th>3056</th>\n",
       "      <td>Demeures Et Seminaires</td>\n",
       "      <td>no information</td>\n",
       "      <td>no information</td>\n",
       "      <td>no_information</td>\n",
       "      <td>no information</td>\n",
       "      <td>0</td>\n",
       "      <td>0</td>\n",
       "      <td>no information</td>\n",
       "      <td>0</td>\n",
       "      <td>0</td>\n",
       "      <td>28330 Charbonnières-les-Bains  Lyon</td>\n",
       "    </tr>\n",
       "    <tr>\n",
       "      <th>3057</th>\n",
       "      <td>Le Terminus</td>\n",
       "      <td>no information</td>\n",
       "      <td>Suisse  Européenne</td>\n",
       "      <td>no_information</td>\n",
       "      <td>no information</td>\n",
       "      <td>0</td>\n",
       "      <td>0</td>\n",
       "      <td>no information</td>\n",
       "      <td>45.78145980834961</td>\n",
       "      <td>4.749744892120361</td>\n",
       "      <td>Charbonnières-les-Bains  Lyon</td>\n",
       "    </tr>\n",
       "  </tbody>\n",
       "</table>\n",
       "<p>252 rows × 11 columns</p>\n",
       "</div>"
      ],
      "text/plain": [
       "                nom_restaurant   nombre_d_avis  \\\n",
       "2806          Brooklyn Burgers  no information   \n",
       "2807               PHONE APERO  no information   \n",
       "2808  Les Cuisiniers du Marche  no information   \n",
       "2809                   Le Foch  no information   \n",
       "2810                 L'Etourdi  no information   \n",
       "...                        ...             ...   \n",
       "3053             Pronto Pizzas  no information   \n",
       "3054           Le Café Lumière  no information   \n",
       "3055           Le Café Lumière  no information   \n",
       "3056    Demeures Et Seminaires  no information   \n",
       "3057               Le Terminus  no information   \n",
       "\n",
       "                        type_nouriture  \\\n",
       "2806                    no information   \n",
       "2807          Vietnamienne  Bar à vins   \n",
       "2808                    no information   \n",
       "2809                   Française  Café   \n",
       "2810                         Française   \n",
       "...                                ...   \n",
       "3053                             Pizza   \n",
       "3054  Française  Européenne  Albanaise   \n",
       "3055                    no information   \n",
       "3056                    no information   \n",
       "3057                Suisse  Européenne   \n",
       "\n",
       "                                     classement            note wifi  \\\n",
       "2806      Nº 2 718 sur 3 058 Restaurants à Lyon  no information    0   \n",
       "2807  Nº 29 sur 36 Restaurants à Vaulx en Velin  no information    0   \n",
       "2808      Nº 2 754 sur 3 058 Restaurants à Lyon  no information    0   \n",
       "2809      Nº 2 768 sur 3 058 Restaurants à Lyon  no information    1   \n",
       "2810      Nº 2 791 sur 3 058 Restaurants à Lyon  no information    0   \n",
       "...                                         ...             ...  ...   \n",
       "3053                             no_information  no information    0   \n",
       "3054                             no_information  no information    0   \n",
       "3055                             no_information  no information    0   \n",
       "3056                             no_information  no information    0   \n",
       "3057                             no_information  no information    0   \n",
       "\n",
       "     livraison      prix_moyen            latitude           longitude  \\\n",
       "2806         0  no information   45.77476119995117   4.805241107940674   \n",
       "2807         0  no information   45.77484130859375   4.914850234985352   \n",
       "2808         0  no information   45.77438735961914   4.830961227416992   \n",
       "2809         0      11 € -18 €  45.769676208496094  4.8437042236328125   \n",
       "2810         0  no information    45.7598876953125   4.830905914306641   \n",
       "...        ...             ...                 ...                 ...   \n",
       "3053         0       5 € -15 €   45.76837158203125   4.938692092895508   \n",
       "3054         0      11 € -24 €  45.769161224365234   4.987874984741211   \n",
       "3055         0  no information  45.769161224365234   4.987874984741211   \n",
       "3056         0  no information                   0                   0   \n",
       "3057         0  no information   45.78145980834961   4.749744892120361   \n",
       "\n",
       "                             arrondissement  \n",
       "2806                          69009  Lyon    \n",
       "2807           69120 Vaulx en Velin  Lyon    \n",
       "2808                          69001  Lyon    \n",
       "2809                          69006  Lyon    \n",
       "2810                          69002  Lyon    \n",
       "...                                     ...  \n",
       "3053         69150 Decines-Charpieu  Lyon    \n",
       "3054         69150 Decines-Charpieu  Lyon    \n",
       "3055         69150 Decines-Charpieu  Lyon    \n",
       "3056  28330 Charbonnières-les-Bains  Lyon    \n",
       "3057        Charbonnières-les-Bains  Lyon    \n",
       "\n",
       "[252 rows x 11 columns]"
      ]
     },
     "execution_count": 111,
     "metadata": {},
     "output_type": "execute_result"
    }
   ],
   "source": [
    "df_resto_lyon[~df_resto_lyon.note.apply(test_float)]"
   ]
  },
  {
   "cell_type": "code",
   "execution_count": 112,
   "id": "3d58fab1",
   "metadata": {},
   "outputs": [
    {
     "data": {
      "text/plain": [
       "(3058, 11)"
      ]
     },
     "execution_count": 112,
     "metadata": {},
     "output_type": "execute_result"
    }
   ],
   "source": [
    "df_resto_lyon.shape"
   ]
  },
  {
   "cell_type": "code",
   "execution_count": 113,
   "id": "4ef0b65a",
   "metadata": {},
   "outputs": [],
   "source": [
    "data = df_resto_lyon[df_resto_lyon['type_nouriture'].notnull()]"
   ]
  },
  {
   "cell_type": "code",
   "execution_count": 114,
   "id": "ff3f9ae1",
   "metadata": {},
   "outputs": [
    {
     "name": "stderr",
     "output_type": "stream",
     "text": [
      "C:\\Users\\celin\\AppData\\Local\\Temp/ipykernel_17340/2034080874.py:1: FutureWarning:\n",
      "\n",
      "The default value of regex will change from True to False in a future version. In addition, single character regular expressions will *not* be treated as literal strings when regex=True.\n",
      "\n",
      "C:\\Users\\celin\\AppData\\Local\\Temp/ipykernel_17340/2034080874.py:2: FutureWarning:\n",
      "\n",
      "The default value of regex will change from True to False in a future version. In addition, single character regular expressions will *not* be treated as literal strings when regex=True.\n",
      "\n"
     ]
    }
   ],
   "source": [
    "data = df_resto_lyon['type_nouriture'].str.replace(\"|\",\"\")\n",
    "data = df_resto_lyon['note'].str.replace(\"|\",\"\")"
   ]
  },
  {
   "cell_type": "code",
   "execution_count": 115,
   "id": "a3907551",
   "metadata": {},
   "outputs": [
    {
     "data": {
      "text/plain": [
       "(3058, 11)"
      ]
     },
     "execution_count": 115,
     "metadata": {},
     "output_type": "execute_result"
    }
   ],
   "source": [
    "df_resto_lyon.shape"
   ]
  },
  {
   "cell_type": "markdown",
   "id": "7ee90bb4",
   "metadata": {},
   "source": [
    "#### ou sont les restaurants les mieux notés sur Lyon?"
   ]
  },
  {
   "cell_type": "code",
   "execution_count": 116,
   "id": "480aa3a7",
   "metadata": {},
   "outputs": [
    {
     "name": "stderr",
     "output_type": "stream",
     "text": [
      "C:\\Users\\celin\\AppData\\Local\\Temp/ipykernel_17340/512545403.py:3: SettingWithCopyWarning:\n",
      "\n",
      "\n",
      "A value is trying to be set on a copy of a slice from a DataFrame.\n",
      "Try using .loc[row_indexer,col_indexer] = value instead\n",
      "\n",
      "See the caveats in the documentation: https://pandas.pydata.org/pandas-docs/stable/user_guide/indexing.html#returning-a-view-versus-a-copy\n",
      "\n"
     ]
    },
    {
     "data": {
      "text/html": [
       "<div>\n",
       "<style scoped>\n",
       "    .dataframe tbody tr th:only-of-type {\n",
       "        vertical-align: middle;\n",
       "    }\n",
       "\n",
       "    .dataframe tbody tr th {\n",
       "        vertical-align: top;\n",
       "    }\n",
       "\n",
       "    .dataframe thead th {\n",
       "        text-align: right;\n",
       "    }\n",
       "</style>\n",
       "<table border=\"1\" class=\"dataframe\">\n",
       "  <thead>\n",
       "    <tr style=\"text-align: right;\">\n",
       "      <th></th>\n",
       "      <th>nom_restaurant</th>\n",
       "      <th>nombre_d_avis</th>\n",
       "      <th>type_nouriture</th>\n",
       "      <th>classement</th>\n",
       "      <th>note</th>\n",
       "      <th>wifi</th>\n",
       "      <th>livraison</th>\n",
       "      <th>prix_moyen</th>\n",
       "      <th>latitude</th>\n",
       "      <th>longitude</th>\n",
       "      <th>arrondissement</th>\n",
       "    </tr>\n",
       "  </thead>\n",
       "  <tbody>\n",
       "    <tr>\n",
       "      <th>0</th>\n",
       "      <td>le Neuvième Art</td>\n",
       "      <td>626 avis</td>\n",
       "      <td>Française  Européenne  Végétariens bienvenus</td>\n",
       "      <td>Nº 1 sur 3 058 Restaurants à Lyon</td>\n",
       "      <td>5.0</td>\n",
       "      <td>1</td>\n",
       "      <td>1</td>\n",
       "      <td>85 € -145 €</td>\n",
       "      <td>45.76849365234375</td>\n",
       "      <td>4.85646390914917</td>\n",
       "      <td>69006  Lyon</td>\n",
       "    </tr>\n",
       "    <tr>\n",
       "      <th>1</th>\n",
       "      <td>Aromatic</td>\n",
       "      <td>601 avis</td>\n",
       "      <td>Française  Européenne  Végétariens bienvenus</td>\n",
       "      <td>Nº 2 sur 3 058 Restaurants à Lyon</td>\n",
       "      <td>5.0</td>\n",
       "      <td>1</td>\n",
       "      <td>0</td>\n",
       "      <td>18 € -41 €</td>\n",
       "      <td>45.77438735961914</td>\n",
       "      <td>4.830961227416992</td>\n",
       "      <td>69004  Lyon</td>\n",
       "    </tr>\n",
       "    <tr>\n",
       "      <th>3</th>\n",
       "      <td>Le Comptoir des Cousins</td>\n",
       "      <td>205 avis</td>\n",
       "      <td>Française  Européenne  Sud-américaine</td>\n",
       "      <td>Nº 4 sur 3 058 Restaurants à Lyon</td>\n",
       "      <td>5.0</td>\n",
       "      <td>1</td>\n",
       "      <td>0</td>\n",
       "      <td>13 € -28 €</td>\n",
       "      <td>45.76849365234375</td>\n",
       "      <td>4.85646390914917</td>\n",
       "      <td>69006  Lyon</td>\n",
       "    </tr>\n",
       "    <tr>\n",
       "      <th>4</th>\n",
       "      <td>Le Book-Lard</td>\n",
       "      <td>204 avis</td>\n",
       "      <td>Française  Brasserie gastronomique  Végétarien...</td>\n",
       "      <td>Nº 5 sur 3 058 Restaurants à Lyon</td>\n",
       "      <td>5.0</td>\n",
       "      <td>1</td>\n",
       "      <td>0</td>\n",
       "      <td>13 € -40 €</td>\n",
       "      <td>45.76708984375</td>\n",
       "      <td>4.845279216766357</td>\n",
       "      <td>69006  Lyon</td>\n",
       "    </tr>\n",
       "    <tr>\n",
       "      <th>7</th>\n",
       "      <td>Epicurius</td>\n",
       "      <td>91 avis</td>\n",
       "      <td>Méditerranéenne  Végétariens bienvenus</td>\n",
       "      <td>Nº 8 sur 3 058 Restaurants à Lyon</td>\n",
       "      <td>5.0</td>\n",
       "      <td>0</td>\n",
       "      <td>0</td>\n",
       "      <td>no informations</td>\n",
       "      <td>45.76605987548828</td>\n",
       "      <td>4.8321309089660645</td>\n",
       "      <td>69001  Lyon</td>\n",
       "    </tr>\n",
       "    <tr>\n",
       "      <th>...</th>\n",
       "      <td>...</td>\n",
       "      <td>...</td>\n",
       "      <td>...</td>\n",
       "      <td>...</td>\n",
       "      <td>...</td>\n",
       "      <td>...</td>\n",
       "      <td>...</td>\n",
       "      <td>...</td>\n",
       "      <td>...</td>\n",
       "      <td>...</td>\n",
       "      <td>...</td>\n",
       "    </tr>\n",
       "    <tr>\n",
       "      <th>2396</th>\n",
       "      <td>Porte de Tunis</td>\n",
       "      <td>1 avis</td>\n",
       "      <td>Méditerranéenne  Tunisienne</td>\n",
       "      <td>Nº 2 397 sur 3 058 Restaurants à Lyon</td>\n",
       "      <td>5.0</td>\n",
       "      <td>0</td>\n",
       "      <td>0</td>\n",
       "      <td>no information</td>\n",
       "      <td>45.763099670410156</td>\n",
       "      <td>4.8345232009887695</td>\n",
       "      <td>69002  Lyon</td>\n",
       "    </tr>\n",
       "    <tr>\n",
       "      <th>2424</th>\n",
       "      <td>Le Café Saint Germain</td>\n",
       "      <td>3 avis</td>\n",
       "      <td>Française  Bar à bières  Café</td>\n",
       "      <td>Nº 2 425 sur 3 058 Restaurants à Lyon</td>\n",
       "      <td>5.0</td>\n",
       "      <td>0</td>\n",
       "      <td>0</td>\n",
       "      <td>12 € -20 €</td>\n",
       "      <td>45.76968002319336</td>\n",
       "      <td>4.850240230560303</td>\n",
       "      <td>69006  Lyon</td>\n",
       "    </tr>\n",
       "    <tr>\n",
       "      <th>2515</th>\n",
       "      <td>Le Simone</td>\n",
       "      <td>6 avis</td>\n",
       "      <td>no information</td>\n",
       "      <td>Nº 2 516 sur 3 058 Restaurants à Lyon</td>\n",
       "      <td>5.0</td>\n",
       "      <td>0</td>\n",
       "      <td>0</td>\n",
       "      <td>no information</td>\n",
       "      <td>45.75048828125</td>\n",
       "      <td>4.826393127441406</td>\n",
       "      <td>69002  Lyon</td>\n",
       "    </tr>\n",
       "    <tr>\n",
       "      <th>2708</th>\n",
       "      <td>Chez Olivia</td>\n",
       "      <td>1 avis</td>\n",
       "      <td>Chinoise  Asiatique</td>\n",
       "      <td>Nº 2 709 sur 3 058 Restaurants à Lyon</td>\n",
       "      <td>5.0</td>\n",
       "      <td>1</td>\n",
       "      <td>1</td>\n",
       "      <td>5 € -15 €</td>\n",
       "      <td>45.75190353393555</td>\n",
       "      <td>4.8284430503845215</td>\n",
       "      <td>69002  Lyon</td>\n",
       "    </tr>\n",
       "    <tr>\n",
       "      <th>2805</th>\n",
       "      <td>La Station</td>\n",
       "      <td>1 avis</td>\n",
       "      <td>no information</td>\n",
       "      <td>no_information</td>\n",
       "      <td>5.0</td>\n",
       "      <td>0</td>\n",
       "      <td>0</td>\n",
       "      <td>no information</td>\n",
       "      <td>45.7823600769043</td>\n",
       "      <td>4.807030200958252</td>\n",
       "      <td>69009  Lyon</td>\n",
       "    </tr>\n",
       "  </tbody>\n",
       "</table>\n",
       "<p>240 rows × 11 columns</p>\n",
       "</div>"
      ],
      "text/plain": [
       "               nom_restaurant nombre_d_avis  \\\n",
       "0             le Neuvième Art     626 avis    \n",
       "1                    Aromatic     601 avis    \n",
       "3     Le Comptoir des Cousins     205 avis    \n",
       "4                Le Book-Lard     204 avis    \n",
       "7                   Epicurius      91 avis    \n",
       "...                       ...           ...   \n",
       "2396           Porte de Tunis       1 avis    \n",
       "2424    Le Café Saint Germain       3 avis    \n",
       "2515                Le Simone       6 avis    \n",
       "2708              Chez Olivia       1 avis    \n",
       "2805               La Station       1 avis    \n",
       "\n",
       "                                         type_nouriture  \\\n",
       "0          Française  Européenne  Végétariens bienvenus   \n",
       "1          Française  Européenne  Végétariens bienvenus   \n",
       "3                 Française  Européenne  Sud-américaine   \n",
       "4     Française  Brasserie gastronomique  Végétarien...   \n",
       "7                Méditerranéenne  Végétariens bienvenus   \n",
       "...                                                 ...   \n",
       "2396                        Méditerranéenne  Tunisienne   \n",
       "2424                      Française  Bar à bières  Café   \n",
       "2515                                     no information   \n",
       "2708                                Chinoise  Asiatique   \n",
       "2805                                     no information   \n",
       "\n",
       "                                 classement  note wifi livraison  \\\n",
       "0         Nº 1 sur 3 058 Restaurants à Lyon   5.0    1         1   \n",
       "1         Nº 2 sur 3 058 Restaurants à Lyon   5.0    1         0   \n",
       "3         Nº 4 sur 3 058 Restaurants à Lyon   5.0    1         0   \n",
       "4         Nº 5 sur 3 058 Restaurants à Lyon   5.0    1         0   \n",
       "7         Nº 8 sur 3 058 Restaurants à Lyon   5.0    0         0   \n",
       "...                                     ...   ...  ...       ...   \n",
       "2396  Nº 2 397 sur 3 058 Restaurants à Lyon   5.0    0         0   \n",
       "2424  Nº 2 425 sur 3 058 Restaurants à Lyon   5.0    0         0   \n",
       "2515  Nº 2 516 sur 3 058 Restaurants à Lyon   5.0    0         0   \n",
       "2708  Nº 2 709 sur 3 058 Restaurants à Lyon   5.0    1         1   \n",
       "2805                         no_information   5.0    0         0   \n",
       "\n",
       "           prix_moyen            latitude           longitude arrondissement  \n",
       "0         85 € -145 €   45.76849365234375    4.85646390914917  69006  Lyon    \n",
       "1          18 € -41 €   45.77438735961914   4.830961227416992  69004  Lyon    \n",
       "3          13 € -28 €   45.76849365234375    4.85646390914917  69006  Lyon    \n",
       "4          13 € -40 €      45.76708984375   4.845279216766357  69006  Lyon    \n",
       "7     no informations   45.76605987548828  4.8321309089660645  69001  Lyon    \n",
       "...               ...                 ...                 ...            ...  \n",
       "2396   no information  45.763099670410156  4.8345232009887695  69002  Lyon    \n",
       "2424       12 € -20 €   45.76968002319336   4.850240230560303  69006  Lyon    \n",
       "2515   no information      45.75048828125   4.826393127441406  69002  Lyon    \n",
       "2708        5 € -15 €   45.75190353393555  4.8284430503845215  69002  Lyon    \n",
       "2805   no information    45.7823600769043   4.807030200958252  69009  Lyon    \n",
       "\n",
       "[240 rows x 11 columns]"
      ]
     },
     "execution_count": 116,
     "metadata": {},
     "output_type": "execute_result"
    }
   ],
   "source": [
    "# analys par groupe des meilleurs notes\n",
    "datrating = df_resto_lyon.loc[df_resto_lyon['note'] != 'no information']\n",
    "datrating['note'] = datrating.note.astype(float)\n",
    "datrating = datrating.loc[datrating['note'] > 4.5]\n",
    "datrating"
   ]
  },
  {
   "cell_type": "code",
   "execution_count": 117,
   "id": "198308a5",
   "metadata": {},
   "outputs": [],
   "source": [
    "#analysis group by low rating\n",
    "datrating_low = df_resto_lyon.loc[df_resto_lyon['note'] != 'no information']\n",
    "datrating_low = datrating_low.loc[datrating_low['note'] < str(2.0)]"
   ]
  },
  {
   "cell_type": "code",
   "execution_count": 118,
   "id": "da218cfd",
   "metadata": {},
   "outputs": [
    {
     "data": {
      "application/vnd.plotly.v1+json": {
       "config": {
        "plotlyServerURL": "https://plot.ly"
       },
       "data": [
        {
         "alignmentgroup": "True",
         "bingroup": "y",
         "histfunc": "sum",
         "hovertemplate": "color=318<br>sum of x=%{x}<br>y=%{y}<extra></extra>",
         "legendgroup": "318",
         "marker": {
          "color": "#636efa",
          "pattern": {
           "shape": ""
          }
         },
         "name": "318",
         "offsetgroup": "318",
         "orientation": "h",
         "showlegend": true,
         "texttemplate": "%{value}",
         "type": "histogram",
         "x": [
          318
         ],
         "xaxis": "x",
         "y": [
          "69007"
         ],
         "yaxis": "y"
        },
        {
         "alignmentgroup": "True",
         "bingroup": "y",
         "histfunc": "sum",
         "hovertemplate": "color=330<br>sum of x=%{x}<br>y=%{y}<extra></extra>",
         "legendgroup": "330",
         "marker": {
          "color": "#EF553B",
          "pattern": {
           "shape": ""
          }
         },
         "name": "330",
         "offsetgroup": "330",
         "orientation": "h",
         "showlegend": true,
         "texttemplate": "%{value}",
         "type": "histogram",
         "x": [
          330
         ],
         "xaxis": "x",
         "y": [
          "69001"
         ],
         "yaxis": "y"
        },
        {
         "alignmentgroup": "True",
         "bingroup": "y",
         "histfunc": "sum",
         "hovertemplate": "color=349<br>sum of x=%{x}<br>y=%{y}<extra></extra>",
         "legendgroup": "349",
         "marker": {
          "color": "#00cc96",
          "pattern": {
           "shape": ""
          }
         },
         "name": "349",
         "offsetgroup": "349",
         "orientation": "h",
         "showlegend": true,
         "texttemplate": "%{value}",
         "type": "histogram",
         "x": [
          349
         ],
         "xaxis": "x",
         "y": [
          "69006"
         ],
         "yaxis": "y"
        },
        {
         "alignmentgroup": "True",
         "bingroup": "y",
         "histfunc": "sum",
         "hovertemplate": "color=405<br>sum of x=%{x}<br>y=%{y}<extra></extra>",
         "legendgroup": "405",
         "marker": {
          "color": "#ab63fa",
          "pattern": {
           "shape": ""
          }
         },
         "name": "405",
         "offsetgroup": "405",
         "orientation": "h",
         "showlegend": true,
         "texttemplate": "%{value}",
         "type": "histogram",
         "x": [
          405
         ],
         "xaxis": "x",
         "y": [
          "69003"
         ],
         "yaxis": "y"
        },
        {
         "alignmentgroup": "True",
         "bingroup": "y",
         "histfunc": "sum",
         "hovertemplate": "color=502<br>sum of x=%{x}<br>y=%{y}<extra></extra>",
         "legendgroup": "502",
         "marker": {
          "color": "#FFA15A",
          "pattern": {
           "shape": ""
          }
         },
         "name": "502",
         "offsetgroup": "502",
         "orientation": "h",
         "showlegend": true,
         "texttemplate": "%{value}",
         "type": "histogram",
         "x": [
          502
         ],
         "xaxis": "x",
         "y": [
          "69002"
         ],
         "yaxis": "y"
        }
       ],
       "layout": {
        "barmode": "relative",
        "legend": {
         "title": {
          "text": "color"
         },
         "tracegroupgap": 0
        },
        "margin": {
         "t": 60
        },
        "showlegend": false,
        "template": {
         "data": {
          "bar": [
           {
            "error_x": {
             "color": "#2a3f5f"
            },
            "error_y": {
             "color": "#2a3f5f"
            },
            "marker": {
             "line": {
              "color": "#E5ECF6",
              "width": 0.5
             },
             "pattern": {
              "fillmode": "overlay",
              "size": 10,
              "solidity": 0.2
             }
            },
            "type": "bar"
           }
          ],
          "barpolar": [
           {
            "marker": {
             "line": {
              "color": "#E5ECF6",
              "width": 0.5
             },
             "pattern": {
              "fillmode": "overlay",
              "size": 10,
              "solidity": 0.2
             }
            },
            "type": "barpolar"
           }
          ],
          "carpet": [
           {
            "aaxis": {
             "endlinecolor": "#2a3f5f",
             "gridcolor": "white",
             "linecolor": "white",
             "minorgridcolor": "white",
             "startlinecolor": "#2a3f5f"
            },
            "baxis": {
             "endlinecolor": "#2a3f5f",
             "gridcolor": "white",
             "linecolor": "white",
             "minorgridcolor": "white",
             "startlinecolor": "#2a3f5f"
            },
            "type": "carpet"
           }
          ],
          "choropleth": [
           {
            "colorbar": {
             "outlinewidth": 0,
             "ticks": ""
            },
            "type": "choropleth"
           }
          ],
          "contour": [
           {
            "colorbar": {
             "outlinewidth": 0,
             "ticks": ""
            },
            "colorscale": [
             [
              0,
              "#0d0887"
             ],
             [
              0.1111111111111111,
              "#46039f"
             ],
             [
              0.2222222222222222,
              "#7201a8"
             ],
             [
              0.3333333333333333,
              "#9c179e"
             ],
             [
              0.4444444444444444,
              "#bd3786"
             ],
             [
              0.5555555555555556,
              "#d8576b"
             ],
             [
              0.6666666666666666,
              "#ed7953"
             ],
             [
              0.7777777777777778,
              "#fb9f3a"
             ],
             [
              0.8888888888888888,
              "#fdca26"
             ],
             [
              1,
              "#f0f921"
             ]
            ],
            "type": "contour"
           }
          ],
          "contourcarpet": [
           {
            "colorbar": {
             "outlinewidth": 0,
             "ticks": ""
            },
            "type": "contourcarpet"
           }
          ],
          "heatmap": [
           {
            "colorbar": {
             "outlinewidth": 0,
             "ticks": ""
            },
            "colorscale": [
             [
              0,
              "#0d0887"
             ],
             [
              0.1111111111111111,
              "#46039f"
             ],
             [
              0.2222222222222222,
              "#7201a8"
             ],
             [
              0.3333333333333333,
              "#9c179e"
             ],
             [
              0.4444444444444444,
              "#bd3786"
             ],
             [
              0.5555555555555556,
              "#d8576b"
             ],
             [
              0.6666666666666666,
              "#ed7953"
             ],
             [
              0.7777777777777778,
              "#fb9f3a"
             ],
             [
              0.8888888888888888,
              "#fdca26"
             ],
             [
              1,
              "#f0f921"
             ]
            ],
            "type": "heatmap"
           }
          ],
          "heatmapgl": [
           {
            "colorbar": {
             "outlinewidth": 0,
             "ticks": ""
            },
            "colorscale": [
             [
              0,
              "#0d0887"
             ],
             [
              0.1111111111111111,
              "#46039f"
             ],
             [
              0.2222222222222222,
              "#7201a8"
             ],
             [
              0.3333333333333333,
              "#9c179e"
             ],
             [
              0.4444444444444444,
              "#bd3786"
             ],
             [
              0.5555555555555556,
              "#d8576b"
             ],
             [
              0.6666666666666666,
              "#ed7953"
             ],
             [
              0.7777777777777778,
              "#fb9f3a"
             ],
             [
              0.8888888888888888,
              "#fdca26"
             ],
             [
              1,
              "#f0f921"
             ]
            ],
            "type": "heatmapgl"
           }
          ],
          "histogram": [
           {
            "marker": {
             "pattern": {
              "fillmode": "overlay",
              "size": 10,
              "solidity": 0.2
             }
            },
            "type": "histogram"
           }
          ],
          "histogram2d": [
           {
            "colorbar": {
             "outlinewidth": 0,
             "ticks": ""
            },
            "colorscale": [
             [
              0,
              "#0d0887"
             ],
             [
              0.1111111111111111,
              "#46039f"
             ],
             [
              0.2222222222222222,
              "#7201a8"
             ],
             [
              0.3333333333333333,
              "#9c179e"
             ],
             [
              0.4444444444444444,
              "#bd3786"
             ],
             [
              0.5555555555555556,
              "#d8576b"
             ],
             [
              0.6666666666666666,
              "#ed7953"
             ],
             [
              0.7777777777777778,
              "#fb9f3a"
             ],
             [
              0.8888888888888888,
              "#fdca26"
             ],
             [
              1,
              "#f0f921"
             ]
            ],
            "type": "histogram2d"
           }
          ],
          "histogram2dcontour": [
           {
            "colorbar": {
             "outlinewidth": 0,
             "ticks": ""
            },
            "colorscale": [
             [
              0,
              "#0d0887"
             ],
             [
              0.1111111111111111,
              "#46039f"
             ],
             [
              0.2222222222222222,
              "#7201a8"
             ],
             [
              0.3333333333333333,
              "#9c179e"
             ],
             [
              0.4444444444444444,
              "#bd3786"
             ],
             [
              0.5555555555555556,
              "#d8576b"
             ],
             [
              0.6666666666666666,
              "#ed7953"
             ],
             [
              0.7777777777777778,
              "#fb9f3a"
             ],
             [
              0.8888888888888888,
              "#fdca26"
             ],
             [
              1,
              "#f0f921"
             ]
            ],
            "type": "histogram2dcontour"
           }
          ],
          "mesh3d": [
           {
            "colorbar": {
             "outlinewidth": 0,
             "ticks": ""
            },
            "type": "mesh3d"
           }
          ],
          "parcoords": [
           {
            "line": {
             "colorbar": {
              "outlinewidth": 0,
              "ticks": ""
             }
            },
            "type": "parcoords"
           }
          ],
          "pie": [
           {
            "automargin": true,
            "type": "pie"
           }
          ],
          "scatter": [
           {
            "fillpattern": {
             "fillmode": "overlay",
             "size": 10,
             "solidity": 0.2
            },
            "type": "scatter"
           }
          ],
          "scatter3d": [
           {
            "line": {
             "colorbar": {
              "outlinewidth": 0,
              "ticks": ""
             }
            },
            "marker": {
             "colorbar": {
              "outlinewidth": 0,
              "ticks": ""
             }
            },
            "type": "scatter3d"
           }
          ],
          "scattercarpet": [
           {
            "marker": {
             "colorbar": {
              "outlinewidth": 0,
              "ticks": ""
             }
            },
            "type": "scattercarpet"
           }
          ],
          "scattergeo": [
           {
            "marker": {
             "colorbar": {
              "outlinewidth": 0,
              "ticks": ""
             }
            },
            "type": "scattergeo"
           }
          ],
          "scattergl": [
           {
            "marker": {
             "colorbar": {
              "outlinewidth": 0,
              "ticks": ""
             }
            },
            "type": "scattergl"
           }
          ],
          "scattermapbox": [
           {
            "marker": {
             "colorbar": {
              "outlinewidth": 0,
              "ticks": ""
             }
            },
            "type": "scattermapbox"
           }
          ],
          "scatterpolar": [
           {
            "marker": {
             "colorbar": {
              "outlinewidth": 0,
              "ticks": ""
             }
            },
            "type": "scatterpolar"
           }
          ],
          "scatterpolargl": [
           {
            "marker": {
             "colorbar": {
              "outlinewidth": 0,
              "ticks": ""
             }
            },
            "type": "scatterpolargl"
           }
          ],
          "scatterternary": [
           {
            "marker": {
             "colorbar": {
              "outlinewidth": 0,
              "ticks": ""
             }
            },
            "type": "scatterternary"
           }
          ],
          "surface": [
           {
            "colorbar": {
             "outlinewidth": 0,
             "ticks": ""
            },
            "colorscale": [
             [
              0,
              "#0d0887"
             ],
             [
              0.1111111111111111,
              "#46039f"
             ],
             [
              0.2222222222222222,
              "#7201a8"
             ],
             [
              0.3333333333333333,
              "#9c179e"
             ],
             [
              0.4444444444444444,
              "#bd3786"
             ],
             [
              0.5555555555555556,
              "#d8576b"
             ],
             [
              0.6666666666666666,
              "#ed7953"
             ],
             [
              0.7777777777777778,
              "#fb9f3a"
             ],
             [
              0.8888888888888888,
              "#fdca26"
             ],
             [
              1,
              "#f0f921"
             ]
            ],
            "type": "surface"
           }
          ],
          "table": [
           {
            "cells": {
             "fill": {
              "color": "#EBF0F8"
             },
             "line": {
              "color": "white"
             }
            },
            "header": {
             "fill": {
              "color": "#C8D4E3"
             },
             "line": {
              "color": "white"
             }
            },
            "type": "table"
           }
          ]
         },
         "layout": {
          "annotationdefaults": {
           "arrowcolor": "#2a3f5f",
           "arrowhead": 0,
           "arrowwidth": 1
          },
          "autotypenumbers": "strict",
          "coloraxis": {
           "colorbar": {
            "outlinewidth": 0,
            "ticks": ""
           }
          },
          "colorscale": {
           "diverging": [
            [
             0,
             "#8e0152"
            ],
            [
             0.1,
             "#c51b7d"
            ],
            [
             0.2,
             "#de77ae"
            ],
            [
             0.3,
             "#f1b6da"
            ],
            [
             0.4,
             "#fde0ef"
            ],
            [
             0.5,
             "#f7f7f7"
            ],
            [
             0.6,
             "#e6f5d0"
            ],
            [
             0.7,
             "#b8e186"
            ],
            [
             0.8,
             "#7fbc41"
            ],
            [
             0.9,
             "#4d9221"
            ],
            [
             1,
             "#276419"
            ]
           ],
           "sequential": [
            [
             0,
             "#0d0887"
            ],
            [
             0.1111111111111111,
             "#46039f"
            ],
            [
             0.2222222222222222,
             "#7201a8"
            ],
            [
             0.3333333333333333,
             "#9c179e"
            ],
            [
             0.4444444444444444,
             "#bd3786"
            ],
            [
             0.5555555555555556,
             "#d8576b"
            ],
            [
             0.6666666666666666,
             "#ed7953"
            ],
            [
             0.7777777777777778,
             "#fb9f3a"
            ],
            [
             0.8888888888888888,
             "#fdca26"
            ],
            [
             1,
             "#f0f921"
            ]
           ],
           "sequentialminus": [
            [
             0,
             "#0d0887"
            ],
            [
             0.1111111111111111,
             "#46039f"
            ],
            [
             0.2222222222222222,
             "#7201a8"
            ],
            [
             0.3333333333333333,
             "#9c179e"
            ],
            [
             0.4444444444444444,
             "#bd3786"
            ],
            [
             0.5555555555555556,
             "#d8576b"
            ],
            [
             0.6666666666666666,
             "#ed7953"
            ],
            [
             0.7777777777777778,
             "#fb9f3a"
            ],
            [
             0.8888888888888888,
             "#fdca26"
            ],
            [
             1,
             "#f0f921"
            ]
           ]
          },
          "colorway": [
           "#636efa",
           "#EF553B",
           "#00cc96",
           "#ab63fa",
           "#FFA15A",
           "#19d3f3",
           "#FF6692",
           "#B6E880",
           "#FF97FF",
           "#FECB52"
          ],
          "font": {
           "color": "#2a3f5f"
          },
          "geo": {
           "bgcolor": "white",
           "lakecolor": "white",
           "landcolor": "#E5ECF6",
           "showlakes": true,
           "showland": true,
           "subunitcolor": "white"
          },
          "hoverlabel": {
           "align": "left"
          },
          "hovermode": "closest",
          "mapbox": {
           "style": "light"
          },
          "paper_bgcolor": "white",
          "plot_bgcolor": "#E5ECF6",
          "polar": {
           "angularaxis": {
            "gridcolor": "white",
            "linecolor": "white",
            "ticks": ""
           },
           "bgcolor": "#E5ECF6",
           "radialaxis": {
            "gridcolor": "white",
            "linecolor": "white",
            "ticks": ""
           }
          },
          "scene": {
           "xaxis": {
            "backgroundcolor": "#E5ECF6",
            "gridcolor": "white",
            "gridwidth": 2,
            "linecolor": "white",
            "showbackground": true,
            "ticks": "",
            "zerolinecolor": "white"
           },
           "yaxis": {
            "backgroundcolor": "#E5ECF6",
            "gridcolor": "white",
            "gridwidth": 2,
            "linecolor": "white",
            "showbackground": true,
            "ticks": "",
            "zerolinecolor": "white"
           },
           "zaxis": {
            "backgroundcolor": "#E5ECF6",
            "gridcolor": "white",
            "gridwidth": 2,
            "linecolor": "white",
            "showbackground": true,
            "ticks": "",
            "zerolinecolor": "white"
           }
          },
          "shapedefaults": {
           "line": {
            "color": "#2a3f5f"
           }
          },
          "ternary": {
           "aaxis": {
            "gridcolor": "white",
            "linecolor": "white",
            "ticks": ""
           },
           "baxis": {
            "gridcolor": "white",
            "linecolor": "white",
            "ticks": ""
           },
           "bgcolor": "#E5ECF6",
           "caxis": {
            "gridcolor": "white",
            "linecolor": "white",
            "ticks": ""
           }
          },
          "title": {
           "x": 0.05
          },
          "xaxis": {
           "automargin": true,
           "gridcolor": "white",
           "linecolor": "white",
           "ticks": "",
           "title": {
            "standoff": 15
           },
           "zerolinecolor": "white",
           "zerolinewidth": 2
          },
          "yaxis": {
           "automargin": true,
           "gridcolor": "white",
           "linecolor": "white",
           "ticks": "",
           "title": {
            "standoff": 15
           },
           "zerolinecolor": "white",
           "zerolinewidth": 2
          }
         }
        },
        "title": {
         "text": "Top 5 des arrondissements Lyonnais où se trouve le plus de restaurants"
        },
        "xaxis": {
         "anchor": "y",
         "domain": [
          0,
          1
         ],
         "title": {
          "text": "Nombre de restaurants"
         }
        },
        "yaxis": {
         "anchor": "x",
         "domain": [
          0,
          1
         ],
         "title": {
          "text": "Arrondissements"
         }
        }
       }
      }
     },
     "metadata": {},
     "output_type": "display_data"
    }
   ],
   "source": [
    "# top 5 des arrondissements lyonnais ou il y a le plus de restaurants\n",
    "\n",
    "k=0\n",
    "arr=[]\n",
    "while k<len(df_resto_lyon['arrondissement']):\n",
    "    arr+=Counter(df_resto_lyon['arrondissement'][k].split()).most_common()\n",
    "    k+=1\n",
    "subclass_arr = [j for j in arr if j[0] != 'Lyon' ]\n",
    "subclass_arr = [j for j in subclass_arr if j[0] != 'Villeurbanne' ]\n",
    "subclass_arr = [j for j in subclass_arr if j[0] != 'Saint-Priest' ]\n",
    "subclass_arr = [j for j in subclass_arr if j[0] != 'en' ]\n",
    "subclass_arr = [j for j in subclass_arr if j[0] != 'Vaulx' ]\n",
    "subclass_arr = [j for j in subclass_arr if j[0] != 'Velin' ]\n",
    "subclass_arr = [j for j in subclass_arr if j[0] != 'Bron' ]\n",
    "subclass_arr = [j for j in subclass_arr if j[0] != 'Chaponnay' ]\n",
    "subclass_arr = [j for j in subclass_arr if j[0] != 'Decines-Charpieu' ]\n",
    "subclass_arr = [j for j in subclass_arr if j[0] != 'Charbonni\\xc3\\xa8res-les-Bains' ]\n",
    "subclass_arr = [j for j in subclass_arr if j[0] != 'Limonest' ]\n",
    "subclass_arr = [j for j in subclass_arr if j[0] != 'Chassieu' ]\n",
    "subclass_arr = [j for j in subclass_arr if j[0] != 'Ecully' ]\n",
    "subclass_arr = [j for j in subclass_arr if j[0] != 'Francheville' ]\n",
    "subclass_arr = [j for j in subclass_arr if j[0] != 'LYON' ]\n",
    "subclass_arr = [j for j in subclass_arr if j[0] != 'lyon' ]\n",
    "subclass_arr = [j for j in subclass_arr if j[0] != 'Charbonnières-les-Bains  ' ]\n",
    "\n",
    "val_arr=  OrderedDict(sorted(Counter(subclass_arr).most_common(5), key=lambda t: t[1],reverse=False)).values()\n",
    "keys_arr=  OrderedDict(sorted(Counter(subclass_arr).most_common(5), key=lambda t: t[1],reverse=False)).keys()\n",
    "keys_list = [x[0] for x in keys_arr]\n",
    "\n",
    "# plt.figure(figsize=(10,10))\n",
    "fig=px.histogram(y=list(keys_list), x= list(val_arr),text_auto=True, color=list(val_arr))\n",
    "fig.update_layout(title_text='Top 5 des arrondissements Lyonnais où se trouve le plus de restaurants',\n",
    "xaxis_title_text='Nombre de restaurants', \n",
    "yaxis_title_text='Arrondissements')\n",
    "fig.update_layout(showlegend=False)\n",
    "fig.show()\n"
   ]
  },
  {
   "cell_type": "code",
   "execution_count": 119,
   "id": "ad3b1acd",
   "metadata": {},
   "outputs": [
    {
     "data": {
      "text/plain": [
       "<AxesSubplot:xlabel='count', ylabel='note'>"
      ]
     },
     "execution_count": 119,
     "metadata": {},
     "output_type": "execute_result"
    },
    {
     "data": {
      "text/plain": [
       "<Figure size 1800x1800 with 0 Axes>"
      ]
     },
     "metadata": {},
     "output_type": "display_data"
    },
    {
     "data": {
      "image/png": "[encoded data removed]",
      "text/plain": [
       "<Figure size 1008x288 with 1 Axes>"
      ]
     },
     "metadata": {
      "needs_background": "light"
     },
     "output_type": "display_data"
    }
   ],
   "source": [
    "k1=0\n",
    "arr1=[]\n",
    "while k1<len(df_resto_lyon['arrondissement']):\n",
    "    arr1+=Counter(df_resto_lyon['arrondissement'][k1].split()).most_common()\n",
    "    k1+=1\n",
    "subclass_arr1 = [j for j in arr if j[0] != 'Lyon' ]\n",
    "subclass_arr1 = [j for j in subclass_arr if j[0] != 'Villeurbanne' ]\n",
    "subclass_arr1 = [j for j in subclass_arr if j[0] != 'Saint-Priest' ]\n",
    "subclass_arr1 = [j for j in subclass_arr if j[0] != 'en' ]\n",
    "subclass_arr1 = [j for j in subclass_arr if j[0] != 'Vaulx' ]\n",
    "subclass_arr1 = [j for j in subclass_arr if j[0] != 'Velin' ]\n",
    "subclass_arr1 = [j for j in subclass_arr if j[0] != 'Bron' ]\n",
    "subclass_arr1 = [j for j in subclass_arr if j[0] != 'Chaponnay' ]\n",
    "subclass_arr1 = [j for j in subclass_arr if j[0] != 'Decines-Charpieu' ]\n",
    "subclass_arr1 = [j for j in subclass_arr if j[0] != 'Charbonni\\xc3\\xa8res-les-Bains' ]\n",
    "subclass_arr1 = [j for j in subclass_arr if j[0] != 'Limonest' ]\n",
    "subclass_arr1 = [j for j in subclass_arr if j[0] != 'Chassieu' ]\n",
    "subclass_arr1 = [j for j in subclass_arr if j[0] != 'Ecully' ]\n",
    "subclass_arr1 = [j for j in subclass_arr if j[0] != 'Francheville' ]\n",
    "subclass_arr1 = [j for j in subclass_arr if j[0] != 'LYON' ]\n",
    "subclass_arr1 = [j for j in subclass_arr if j[0] != 'lyon' ]\n",
    "subclass_arr1 = [j for j in subclass_arr if j[0] != 'Charbonnières-les-Bains  ' ]\n",
    "\n",
    "val_arr1=  OrderedDict(sorted(Counter(subclass_arr1).most_common(10), key=lambda t: t[1],reverse=True)).values()\n",
    "keys_arr1=  OrderedDict(sorted(Counter(subclass_arr1).most_common(10), key=lambda t: t[1],reverse=True)).keys()\n",
    "keys_list1 = [x[0] for x in keys_arr1]\n",
    "\n",
    "# best restaurant & top area\n",
    "plt.figure(figsize=(25,25))\n",
    "nobu =datrating.loc[datrating[\"note\"] != '4.5']\n",
    "fig, (axis1) = plt.subplots(1,figsize=(14,4))\n",
    "\n",
    "sns.countplot(y='note',hue='nom_restaurant', data = nobu.sort_values(by='note',ascending=False)[:10], palette=\"Set3\", ax=axis1)\n",
    "\n"
   ]
  },
  {
   "cell_type": "code",
   "execution_count": 120,
   "metadata": {},
   "outputs": [],
   "source": [
    "d1 =df_resto_lyon.groupby('prix_moyen').size()"
   ]
  },
  {
   "cell_type": "code",
   "execution_count": 161,
   "id": "ae5dcbd5",
   "metadata": {},
   "outputs": [
    {
     "name": "stderr",
     "output_type": "stream",
     "text": [
      "C:\\Users\\celin\\AppData\\Local\\Temp/ipykernel_17340/2068769891.py:1: FutureWarning:\n",
      "\n",
      "Dropping invalid columns in DataFrameGroupBy.add is deprecated. In a future version, a TypeError will be raised. Before calling .add, select only columns which should be valid for the function.\n",
      "\n"
     ]
    },
    {
     "data": {
      "text/html": [
       "<div>\n",
       "<style scoped>\n",
       "    .dataframe tbody tr th:only-of-type {\n",
       "        vertical-align: middle;\n",
       "    }\n",
       "\n",
       "    .dataframe tbody tr th {\n",
       "        vertical-align: top;\n",
       "    }\n",
       "\n",
       "    .dataframe thead th {\n",
       "        text-align: right;\n",
       "    }\n",
       "</style>\n",
       "<table border=\"1\" class=\"dataframe\">\n",
       "  <thead>\n",
       "    <tr style=\"text-align: right;\">\n",
       "      <th></th>\n",
       "      <th>wifi</th>\n",
       "      <th>livraison</th>\n",
       "    </tr>\n",
       "    <tr>\n",
       "      <th>prix_moyen</th>\n",
       "      <th></th>\n",
       "      <th></th>\n",
       "    </tr>\n",
       "  </thead>\n",
       "  <tbody>\n",
       "    <tr>\n",
       "      <th>10 € -112 €</th>\n",
       "      <td>2</td>\n",
       "      <td>2</td>\n",
       "    </tr>\n",
       "    <tr>\n",
       "      <th>10 € -13 €</th>\n",
       "      <td>2</td>\n",
       "      <td>3</td>\n",
       "    </tr>\n",
       "    <tr>\n",
       "      <th>10 € -14 €</th>\n",
       "      <td>1</td>\n",
       "      <td>1</td>\n",
       "    </tr>\n",
       "    <tr>\n",
       "      <th>10 € -15 €</th>\n",
       "      <td>2</td>\n",
       "      <td>3</td>\n",
       "    </tr>\n",
       "    <tr>\n",
       "      <th>10 € -16 €</th>\n",
       "      <td>2</td>\n",
       "      <td>1</td>\n",
       "    </tr>\n",
       "    <tr>\n",
       "      <th>...</th>\n",
       "      <td>...</td>\n",
       "      <td>...</td>\n",
       "    </tr>\n",
       "    <tr>\n",
       "      <th>Scandinave</th>\n",
       "      <td>0</td>\n",
       "      <td>0</td>\n",
       "    </tr>\n",
       "    <tr>\n",
       "      <th>Tunisienne</th>\n",
       "      <td>0</td>\n",
       "      <td>0</td>\n",
       "    </tr>\n",
       "    <tr>\n",
       "      <th>cambodgienne</th>\n",
       "      <td>0</td>\n",
       "      <td>0</td>\n",
       "    </tr>\n",
       "    <tr>\n",
       "      <th>no information</th>\n",
       "      <td>16</td>\n",
       "      <td>19</td>\n",
       "    </tr>\n",
       "    <tr>\n",
       "      <th>no informations</th>\n",
       "      <td>0</td>\n",
       "      <td>0</td>\n",
       "    </tr>\n",
       "  </tbody>\n",
       "</table>\n",
       "<p>395 rows × 2 columns</p>\n",
       "</div>"
      ],
      "text/plain": [
       "                 wifi  livraison\n",
       "prix_moyen                      \n",
       "10 € -112 €         2          2\n",
       "10 € -13 €          2          3\n",
       "10 € -14 €          1          1\n",
       "10 € -15 €          2          3\n",
       "10 € -16 €          2          1\n",
       "...               ...        ...\n",
       "Scandinave          0          0\n",
       "Tunisienne          0          0\n",
       "cambodgienne        0          0\n",
       "no information     16         19\n",
       "no informations     0          0\n",
       "\n",
       "[395 rows x 2 columns]"
      ]
     },
     "execution_count": 161,
     "metadata": {},
     "output_type": "execute_result"
    }
   ],
   "source": [
    "df_resto_lyon.groupby(by=['prix_moyen']).sum().groupby(level=[0]).cumsum()"
   ]
  },
  {
   "cell_type": "code",
   "execution_count": 158,
   "id": "636c30b6",
   "metadata": {},
   "outputs": [
    {
     "data": {
      "text/plain": [
       "no information    2129\n",
       "10 € -20 €          22\n",
       "Bar à vins          22\n",
       "9 € -15 €           19\n",
       "10 € -30 €          17\n",
       "                  ... \n",
       "3 € -22 €            1\n",
       "11 € -13 €           1\n",
       "18 € -41 €           1\n",
       "14 € -36 €           1\n",
       "11 € -24 €           1\n",
       "Name: prix_moyen, Length: 395, dtype: int64"
      ]
     },
     "execution_count": 158,
     "metadata": {},
     "output_type": "execute_result"
    }
   ],
   "source": [
    "df_resto_lyon['prix_moyen'].value_counts()"
   ]
  },
  {
   "cell_type": "code",
   "execution_count": 121,
   "id": "5a228164",
   "metadata": {},
   "outputs": [
    {
     "data": {
      "text/plain": [
       "prix_moyen\n",
       "10 € -112 €           2\n",
       "10 € -13 €            5\n",
       "10 € -14 €            1\n",
       "10 € -15 €            8\n",
       "10 € -16 €            2\n",
       "                   ... \n",
       "Scandinave            1\n",
       "Tunisienne            1\n",
       "cambodgienne          2\n",
       "no information     2129\n",
       "no informations       8\n",
       "Length: 395, dtype: int64"
      ]
     },
     "execution_count": 121,
     "metadata": {},
     "output_type": "execute_result"
    }
   ],
   "source": [
    "d1"
   ]
  },
  {
   "cell_type": "code",
   "execution_count": 122,
   "id": "0afaa89d",
   "metadata": {},
   "outputs": [
    {
     "data": {
      "image/png": "[encoded data removed]",
      "text/plain": [
       "<Figure size 432x288 with 1 Axes>"
      ]
     },
     "metadata": {
      "needs_background": "light"
     },
     "output_type": "display_data"
    }
   ],
   "source": [
    "prix_low = df_resto_lyon.loc[df_resto_lyon['prix_moyen'] != 'no information']\n",
    "prix_low = df_resto_lyon.loc[df_resto_lyon['prix_moyen'] != 'no informations']\n",
    "prix_low = datrating_low.loc[datrating_low['prix_moyen'] != object]\n",
    "\n",
    "sns.countplot(x='prix_moyen', data = prix_low, palette=\"Set3\")\n",
    "plt.title('Budget moyens de la note', fontsize=16)\n",
    "plt.xlabel('Fourchettes de couts', fontsize=14)\n",
    "plt.ylabel('nombre de réponses', fontsize=14)\n",
    "plt.show()\n"
   ]
  },
  {
   "cell_type": "code",
   "execution_count": 142,
   "id": "6eca8c2d",
   "metadata": {},
   "outputs": [
    {
     "name": "stderr",
     "output_type": "stream",
     "text": [
      "C:\\Users\\celin\\AppData\\Local\\Temp/ipykernel_17340/1868580442.py:1: FutureWarning:\n",
      "\n",
      "The default value of regex will change from True to False in a future version. In addition, single character regular expressions will *not* be treated as literal strings when regex=True.\n",
      "\n"
     ]
    }
   ],
   "source": [
    "data = df_resto_lyon['type_nouriture'].str.replace(\"|\",\"\")\n",
    "i=0\n",
    "#fonction split permet de recuperer pour chaque ligne les mot separé (ex: (un chat) deviens (un:1),(chat:1))\n",
    "#on stock ces mot dans un tableau que l'on nomme u \n",
    "u=[]\n",
    "while i<len(data):\n",
    "    u+=Counter(data[i].split()).most_common()\n",
    "    i+=1\n",
    "    \n",
    "#supprime les mot inutiles ou repetitif de la list u pour pouvoir realiser de meilleures analyses \n",
    "subclass = [j for j in u if j[0] != 'no' ]\n",
    "\n",
    "subclass = [j for j in subclass if j[0] != 'de' ]\n",
    "\n",
    "subclass = [j for j in subclass if j[0] != 'à' ]\n",
    "\n",
    "subclass = [j for j in subclass if j[0] != 'bienvenus' ]\n",
    "\n",
    "subclass = [j for j in subclass if j[0] != 'restauration' ]\n",
    "subclass = [j for j in subclass if j[0] != 'Restauration' ]\n",
    "\n",
    "subclass = [j for j in subclass if j[0] != '&' ]\n",
    "\n",
    "subclass = [j for j in subclass if j[0] != 'food' ]\n",
    "\n",
    "subclass = [j for j in subclass if j[0] != 'cuisine' ]\n",
    "\n",
    "subclass = [j for j in subclass if j[0] != 'rue' ]\n",
    "\n",
    "subclass = [j for j in subclass if j[0] != 'choix' ]\n",
    "\n",
    "subclass = [j for j in subclass if j[0] != 'plats' ]\n",
    "\n",
    "subclass = [j for j in subclass if j[0] != 'gluten' ]\n",
    "\n",
    "subclass = [j for j in subclass if j[0] != 'sans' ]\n",
    "\n",
    "subclass = [j for j in subclass if j[0] != 'Saine' ]\n",
    "\n",
    "subclass = [j for j in subclass if j[0] != 'information' ]"
   ]
  }
 ],
 "metadata": {
  "interpreter": {
   "hash": "d6381a87b2424a7aae50eef8deac5c5d4df093bd989fd14e2151d3ffc83db30d"
  },
  "kernelspec": {
   "display_name": "Python 3.9.7 ('base')",
   "language": "python",
   "name": "python3"
  },
  "language_info": {
   "codemirror_mode": {
    "name": "ipython",
    "version": 3
   },
   "file_extension": ".py",
   "mimetype": "text/x-python",
   "name": "python",
   "nbconvert_exporter": "python",
   "pygments_lexer": "ipython3",
   "version": "3.9.7"
  }
 },
 "nbformat": 4,
 "nbformat_minor": 5
}
